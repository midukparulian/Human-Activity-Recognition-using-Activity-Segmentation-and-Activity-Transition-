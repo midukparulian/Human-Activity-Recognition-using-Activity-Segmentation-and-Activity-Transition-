{
 "cells": [
  {
   "cell_type": "code",
   "execution_count": null,
   "metadata": {},
   "outputs": [],
   "source": [
    "!pip install mediapipe --user pandas scikit-learn"
   ]
  },
  {
   "cell_type": "code",
   "execution_count": null,
   "metadata": {},
   "outputs": [],
   "source": [
    "!pip install opencv-contrib-python"
   ]
  },
  {
   "cell_type": "code",
   "execution_count": 3,
   "metadata": {},
   "outputs": [],
   "source": [
    "import mediapipe as mp\n",
    "import cv2\n",
    "import csv\n",
    "import numpy as np\n",
    "import os\n",
    "from cv2 import destroyAllWindows"
   ]
  },
  {
   "cell_type": "code",
   "execution_count": 4,
   "metadata": {},
   "outputs": [],
   "source": [
    "mp_drawing  = mp.solutions.drawing_utils\n",
    "mp_holistic = mp.solutions.holistic"
   ]
  },
  {
   "cell_type": "code",
   "execution_count": 5,
   "metadata": {},
   "outputs": [],
   "source": [
    "class_name = 'label_activity'"
   ]
  },
  {
   "cell_type": "markdown",
   "metadata": {},
   "source": [
    "## Make Detection"
   ]
  },
  {
   "cell_type": "code",
   "execution_count": 6,
   "metadata": {},
   "outputs": [],
   "source": [
    "video_file='5_sitting01.mp4'\n",
    "cap = cv2.VideoCapture(video_file)\n",
    "\n",
    "# initialize the model\n",
    "#with mp_pose.Pose(min_detection_confidence=0.5, min_tracking_confidence=0.5) as pose:\n",
    "with mp_holistic.Holistic(min_detection_confidence=0.5,min_tracking_confidence=0.5) as holistic:\n",
    "    while cap.isOpened():\n",
    "        ret, frame = cap.read()\n",
    "        if ret==True:\n",
    "            \n",
    "             # Recolor image to RGB\n",
    "            image = cv2.cvtColor(frame, cv2.COLOR_BGR2RGB)\n",
    "            image.flags.writeable = False\n",
    "            \n",
    "            # Make detection\n",
    "            results = holistic.process(image)\n",
    "            \n",
    "            # Recolor back to BGR\n",
    "            image.flags.writeable = True\n",
    "            image = cv2.cvtColor(image, cv2.COLOR_RGB2BGR)\n",
    "\n",
    "            #print(results.pose_landmarks)\n",
    "        \n",
    "            # pose detection\n",
    "            #mp_drawing.draw_landmarks(image , results.pose_landmarks , mp_pose.POSE_CONNECTIONS,\n",
    "            #mp_drawing.DrawingSpec(color=(245,117,66) ,thickness = 2 ,circle_radius=4 ) ,        mp_drawing.DrawingSpec(color=(245,66,230) ,thickness = 2 ,circle_radius=2 ))\n",
    "\n",
    "            # export coordinates\n",
    "            try:\n",
    "                pose = results.pose_landmarks.landmark\n",
    "                pose_row = list(np.array([[landmark.x , landmark.y , landmark.z , landmark.visibility] for landmark in pose]).flatten())\n",
    "\n",
    "                row = pose_row\n",
    "                row.insert(0 , class_name)\n",
    "\n",
    "                with open('sitting-standing.csv' , mode='a',newline='') as f:\n",
    "                    csv_writer = csv.writer(f , delimiter=',',quotechar='\"',quoting = csv.QUOTE_MINIMAL)\n",
    "                    csv_writer.writerow(row)\n",
    "\n",
    "            except:\n",
    "                pass\n",
    "       \n",
    "    \n",
    "        \n",
    "        cv2.imshow('Activity', image)\n",
    "        \n",
    "        if cv2.waitKey(1) & 0xFF == ord('q'):\n",
    "            cap.release()\n",
    "            cv2.destroyAllWindows()"
   ]
  },
  {
   "cell_type": "code",
   "execution_count": null,
   "metadata": {},
   "outputs": [],
   "source": [
    "num_coords = len(results.pose_landmarks.landmark)\n",
    "print(num_coords)"
   ]
  },
  {
   "cell_type": "markdown",
   "metadata": {},
   "source": [
    "## Create Model"
   ]
  },
  {
   "cell_type": "code",
   "execution_count": 5,
   "metadata": {},
   "outputs": [],
   "source": [
    "import pandas as pd\n",
    "from sklearn.model_selection import train_test_split"
   ]
  },
  {
   "cell_type": "code",
   "execution_count": 6,
   "metadata": {},
   "outputs": [],
   "source": [
    "df = pd.read_csv('Activity.csv')"
   ]
  },
  {
   "cell_type": "code",
   "execution_count": 9,
   "metadata": {},
   "outputs": [],
   "source": [
    "x = df.iloc[: , 1:]\n",
    "y = df.iloc[: , 0]"
   ]
  },
  {
   "cell_type": "code",
   "execution_count": 10,
   "metadata": {},
   "outputs": [],
   "source": [
    "X_train , X_test , y_train , y_test = train_test_split(x , y , test_size = 0.4 , random_state=42)"
   ]
  },
  {
   "cell_type": "code",
   "execution_count": null,
   "metadata": {},
   "outputs": [],
   "source": [
    "len(X_train) , len(X_test)"
   ]
  },
  {
   "cell_type": "markdown",
   "metadata": {},
   "source": [
    "## Model Preparation"
   ]
  },
  {
   "cell_type": "code",
   "execution_count": 12,
   "metadata": {},
   "outputs": [],
   "source": [
    "from sklearn.preprocessing import StandardScaler\n",
    "from sklearn.pipeline import make_pipeline\n",
    "from sklearn.linear_model import LogisticRegression , RidgeClassifier\n",
    "from sklearn.ensemble import RandomForestClassifier , GradientBoostingClassifier\n",
    "from sklearn.neighbors import KNeighborsClassifier"
   ]
  },
  {
   "cell_type": "code",
   "execution_count": 15,
   "metadata": {},
   "outputs": [],
   "source": [
    "# Yang digunakan untuk membuat model\n",
    "pipelines = {\n",
    "    'knn':make_pipeline( KNeighborsClassifier(5))\n",
    "}"
   ]
  },
  {
   "cell_type": "code",
   "execution_count": null,
   "metadata": {},
   "outputs": [],
   "source": [
    "list(pipelines.values())[0]"
   ]
  },
  {
   "cell_type": "code",
   "execution_count": 17,
   "metadata": {},
   "outputs": [],
   "source": [
    "fit_models = {}\n",
    "for algo , pipeline in pipelines.items():\n",
    "    model = pipeline.fit(X_train , y_train)\n",
    "    fit_models[algo] = model\n",
    "   "
   ]
  },
  {
   "cell_type": "markdown",
   "metadata": {},
   "source": [
    "## Evaluate Model"
   ]
  },
  {
   "cell_type": "code",
   "execution_count": 18,
   "metadata": {},
   "outputs": [],
   "source": [
    "#from sklearn.metrics import accuracy_score\n",
    "from sklearn.metrics import accuracy_score, confusion_matrix, classification_report\n",
    "import pickle"
   ]
  },
  {
   "cell_type": "code",
   "execution_count": null,
   "metadata": {},
   "outputs": [],
   "source": [
    "for algo , model in fit_models.items():\n",
    "    pred = model.predict(X_test)\n",
    "    print(algo , accuracy_score(y_test , pred)*100,confusion_matrix(y_test , pred))"
   ]
  },
  {
   "cell_type": "code",
   "execution_count": 20,
   "metadata": {},
   "outputs": [],
   "source": [
    "# save the model\n",
    "with open('activity.pkl' , 'wb') as f:\n",
    "    pickle.dump(fit_models['knn'], f)"
   ]
  },
  {
   "cell_type": "markdown",
   "metadata": {},
   "source": [
    "# Testing & Make Predictions ( Real Time )"
   ]
  },
  {
   "cell_type": "code",
   "execution_count": 21,
   "metadata": {},
   "outputs": [],
   "source": [
    "with open('activity.pkl','rb') as f:\n",
    "    model = pickle.load(f)"
   ]
  },
  {
   "cell_type": "code",
   "execution_count": 22,
   "metadata": {},
   "outputs": [],
   "source": [
    "import matplotlib.pyplot as plt"
   ]
  },
  {
   "cell_type": "code",
   "execution_count": null,
   "metadata": {},
   "outputs": [],
   "source": [
    "prob_detect=[]\n",
    "class_detect=[]\n",
    "result_data = []\n",
    "\n",
    "video_file='Video Test.mp4'\n",
    "cap = cv2.VideoCapture(video_file)\n",
    "\n",
    "# initialize the model\n",
    "with mp_holistic.Holistic(min_detection_confidence=0.5,min_tracking_confidence=0.5) as holistic:\n",
    "\n",
    "    while cap.isOpened():\n",
    "        ret , frame = cap.read()\n",
    "        if ret==True:\n",
    "            image = cv2.cvtColor(frame , cv2.COLOR_BGR2RGB)\n",
    "\n",
    "            image.flags.writeable = False\n",
    "\n",
    "            results = holistic.process(image)\n",
    "\n",
    "            # print(results.pose_landmarks)\n",
    "            image.flags.writeable = True\n",
    "\n",
    "            image = cv2.cvtColor(image , cv2.COLOR_RGB2BGR)\n",
    "\n",
    "\n",
    "            # pose detection\n",
    "            mp_drawing.draw_landmarks(image , results.pose_landmarks , mp_holistic.POSE_CONNECTIONS,\n",
    "            mp_drawing.DrawingSpec(color=(245,117,66) ,thickness = 2 ,circle_radius=4 ) ,        mp_drawing.DrawingSpec(color=(245,66,230) ,thickness = 2 ,circle_radius=2 ))\n",
    "\n",
    "            # export coordinates\n",
    "            try:\n",
    "                pose = results.pose_landmarks.landmark\n",
    "                pose_row = list(np.array([[landmark.x , landmark.y , landmark.z , landmark.visibility] for landmark in pose]).flatten())\n",
    "\n",
    "                row = pose_row\n",
    "                X = pd.DataFrame([row])\n",
    "                body_language_class = model.predict(X)[0]\n",
    "                body_language_prob = model.predict_proba(X)[0]\n",
    "                                \n",
    "                cv2.rectangle(image, (0, 0), (250, 60), (245, 117, 16), -1)\n",
    "\n",
    "                # Display Class\n",
    "                cv2.putText(image, 'CLASS', (15, 12),\n",
    "                            cv2.FONT_HERSHEY_SIMPLEX, 0.5, (0, 0, 0), 1, cv2.LINE_AA)\n",
    "                cv2.putText(image, body_language_class.split(' ')[\n",
    "                            0], (1, 40), cv2.FONT_HERSHEY_SIMPLEX, 1, (255, 255, 255), 2, cv2.LINE_AA)\n",
    "\n",
    "                # Display Probability\n",
    "                cv2.putText(image, 'PROB', (175, 12),\n",
    "                            cv2.FONT_HERSHEY_SIMPLEX, 0.5, (0, 0, 0), 1, cv2.LINE_AA)\n",
    "                cv2.putText(image, str(round(body_language_prob[np.argmax(body_language_prob)], 2)), (\n",
    "                    175, 40), cv2.FONT_HERSHEY_SIMPLEX, 1, (255, 255, 255), 2, cv2.LINE_AA)\n",
    "                prob_detect.append(round(body_language_prob[np.argmax(body_language_prob)], 2))\n",
    "                class_detect.append(body_language_class)\n",
    "                prob_detect.append(round(body_language_prob[np.argmax(body_language_prob)], 2))\n",
    "                class_detect.append(body_language_class)\n",
    "        \n",
    "\n",
    "                with open('Result' , mode='a',newline='') as f:\n",
    "                    csv_writer = csv.writer(f , delimiter=',',quotechar='\"',quoting = csv.QUOTE_MINIMAL)\n",
    "                    csv_writer.writerow(row)\n",
    "            except:\n",
    "                pass\n",
    "        result_data.append({\"class\": body_language_class.split(' ')[0], \"probability\": round(body_language_prob[np.argmax(body_language_prob)], 2)})\n",
    "    \n",
    "        cv2.imshow(\"Pose Model Detections\",image)\n",
    "        #prob_detect=round(body_language_prob[np.argmax(body_language_prob)], 2)\n",
    "        \n",
    "        if cv2.waitKey(1) & 0xFF == ord('q'):\n",
    "            cap.release()\n",
    "            cv2.destroyAllWindows()"
   ]
  },
  {
   "cell_type": "code",
   "execution_count": null,
   "metadata": {},
   "outputs": [],
   "source": [
    "import pandas as pd  \n",
    "\n",
    "frame_rate = 30  # Replace this with the actual frame rate of your video or data\n",
    "\n",
    "# Calculate the total sum of all probabilities using list comprehension\n",
    "total_sum_probabilities = sum(result[\"probability\"] for result in result_data)\n",
    "\n",
    "# Assuming you want to find the percentage sum of probabilities for the class \"Transition\"\n",
    "\n",
    "desired_class1 = \"Standing\"\n",
    "desired_class2 = \"Sitting\"\n",
    "\n",
    "\n",
    "# Use list comprehension to filter the data for the desired class\n",
    "#desired_class_data = [(idx, result[\"class\"], result[\"probability\"]) for idx, result in enumerate(result_data) if result[\"class\"] == desired_class]\n",
    "desired_class_data1 = [(idx, result[\"class\"], result[\"probability\"]) for idx, result in enumerate(result_data) if result[\"class\"] == desired_class1]\n",
    "desired_class_data2 = [(idx, result[\"class\"], result[\"probability\"]) for idx, result in enumerate(result_data) if result[\"class\"] == desired_class2]\n",
    "\n",
    "# Calculate the sum of probabilities for the desired class\n",
    "#sum_probabilities = sum(probability for _, _, probability in desired_class_data)\n",
    "sum_probabilities1 = sum(probability for _, _, probability in desired_class_data1)\n",
    "sum_probabilities2 = sum(probability for _, _, probability in desired_class_data2)\n",
    "\n",
    "# Calculate the percentage sum of probabilities for the desired class\n",
    "#percentage_sum_probabilities = (sum_probabilities / total_sum_probabilities) * 100\n",
    "\n",
    "# Calculate the average probability for the desired class\n",
    "#num_occurrences = len(desired_class_data)\n",
    "#average_probability = (sum_probabilities / num_occurrences) if num_occurrences > 0 else 0\n",
    "num_occurrences1 = len(desired_class_data1)\n",
    "average_probability1 = (sum_probabilities1 / num_occurrences1) if num_occurrences1 > 0 else 0\n",
    "num_occurrences2 = len(desired_class_data2)\n",
    "average_probability2 = (sum_probabilities2 / num_occurrences2) if num_occurrences2 > 0 else 0\n",
    "\n",
    "# Convert the index to the time frame using the frame rate\n",
    "#time_frames = [idx / frame_rate for idx, _, _ in desired_class_data]\n",
    "time_frames1 = [idx / frame_rate for idx, _, _ in desired_class_data1]\n",
    "time_frames2 = [idx / frame_rate for idx, _, _ in desired_class_data2]\n",
    "\n",
    "# Create a DataFrame from the filtered data\n",
    "#df_desired_class = pd.DataFrame(desired_class_data, columns=[\"Index\", \"Class\", \"Probability\"])\n",
    "df_desired_class1 = pd.DataFrame(desired_class_data1, columns=[\"Index\", \"Class\", \"Probability\"])\n",
    "df_desired_class2 = pd.DataFrame(desired_class_data2, columns=[\"Index\", \"Class\", \"Probability\"])\n",
    "#df_desired_class[\"Time Frame (seconds)\"] = time_frames\n",
    "df_desired_class1[\"Time Frame (seconds)\"] = time_frames1\n",
    "df_desired_class2[\"Time Frame (seconds)\"] = time_frames2\n",
    "\n",
    "print(f\"Sum Probabilities for '{desired_class1}': {sum_probabilities1:.4f}\")\n",
    "print(f\"Average Probability for '{desired_class1}': {average_probability1:.4f}\")\n",
    "print(df_desired_class1)\n",
    "print(f\"Sum Probabilities for '{desired_class2}': {sum_probabilities2:.4f}\")\n",
    "print(f\"Average Probability for '{desired_class2}': {average_probability2:.4f}\")\n",
    "print(df_desired_class2)\n"
   ]
  },
  {
   "cell_type": "code",
   "execution_count": null,
   "metadata": {},
   "outputs": [],
   "source": [
    "import matplotlib.pyplot as plt\n",
    "fig = plt.figure()\n",
    "plt.rcParams.update({'font.size': 16})\n",
    "\n",
    "fig, ax = plt.subplots()\n",
    "fig.set_figheight(5)\n",
    "fig.set_figwidth(12)\n",
    "x = time\n",
    "y1 = class_detect\n",
    "y2 = prob_detect\n",
    "\n",
    "ax.plot(x, y1, color=\"blue\")                  # set line color to blue\n",
    "ax.set_xlabel('X Axis')\n",
    "ax.set_ylabel('Class Prediction', color=\"blue\")        # set y axis title to blue\n",
    "ax.tick_params(axis='y', colors=\"blue\")       # set y axis tick labels to blue\n",
    "\n",
    "# We create another axis object. It shares the same x axis as ax, but the y-axis is separate.\n",
    "ax2 = ax.twinx()\n",
    "ax2.plot(x, y2, color=\"red\")                  # set line color to red\n",
    "ax2.set_ylabel('Accuracy ', color=\"red\")        # set y axis title to red\n",
    "ax2.tick_params(axis='y', colors=\"red\")       # set y axis tick labels to red\n",
    "\n",
    "plt.show()"
   ]
  },
  {
   "cell_type": "code",
   "execution_count": 34,
   "metadata": {},
   "outputs": [],
   "source": [
    "labels=['Activity_1','Activity_2']"
   ]
  },
  {
   "cell_type": "code",
   "execution_count": 35,
   "metadata": {},
   "outputs": [],
   "source": [
    "import itertools\n",
    "import numpy as np\n",
    "import matplotlib.pyplot as plt\n",
    "from sklearn.metrics import confusion_matrix\n",
    "plt.rcParams[\"font.family\"] = 'Verdana'\n",
    "\n",
    "def plot_confusion_matrix(cm, classes,\n",
    "                          normalize=False,\n",
    "                          title='Confusion matrix',\n",
    "                          cmap=plt.cm.Blues):\n",
    "    if normalize:\n",
    "        cm = cm.astype('float') / cm.sum(axis=1)[:, np.newaxis]\n",
    "\n",
    "    plt.imshow(cm, interpolation='nearest', cmap=cmap)\n",
    "    plt.title(title)\n",
    "    plt.colorbar()\n",
    "    tick_marks = np.arange(len(classes))\n",
    "    plt.xticks(tick_marks, classes, rotation=90)\n",
    "    plt.yticks(tick_marks, classes)\n",
    "    ax = plt.gca()\n",
    "    ax.set_ylim(-.5, 5.5)\n",
    "        \n",
    "    fmt = '.2f' if normalize else 'd'\n",
    "    thresh = cm.max() / 2.\n",
    "    for i, j in itertools.product(range(cm.shape[0]), range(cm.shape[1])):\n",
    "        plt.text(j, i, format(cm[i, j], fmt),\n",
    "                 horizontalalignment=\"center\",\n",
    "                 color=\"white\" if cm[i, j] > thresh else \"black\")\n",
    "\n",
    "    plt.tight_layout()\n",
    "    plt.ylabel('True label')\n",
    "    plt.xlabel('Predicted label')"
   ]
  },
  {
   "cell_type": "code",
   "execution_count": 36,
   "metadata": {},
   "outputs": [],
   "source": [
    "from datetime import datetime\n",
    "def perform_model(model, X_train, y_train, X_test, y_test, class_labels, cm_normalize=True, \\\n",
    "                 print_cm=True, cm_cmap=plt.cm.Reds):\n",
    "    \n",
    "    \n",
    "    # to store results at various phases\n",
    "    results = dict()\n",
    "    \n",
    "    # time at which model starts training \n",
    "    train_start_time = datetime.now()\n",
    "    print('training the model..')\n",
    "    model.fit(X_train, y_train)\n",
    "    print('Done \\n \\n')\n",
    "    train_end_time = datetime.now()\n",
    "    results['training_time'] =  train_end_time - train_start_time\n",
    "    print('training_time(HH:MM:SS.ms) - {}\\n\\n'.format(results['training_time']))\n",
    "    \n",
    "    \n",
    "    # predict test data\n",
    "    print('Predicting test data')\n",
    "    test_start_time = datetime.now()\n",
    "    y_pred = model.predict(X_test)\n",
    "    test_end_time = datetime.now()\n",
    "    print('Done \\n \\n')\n",
    "    results['testing_time'] = test_end_time - test_start_time\n",
    "    print('testing time(HH:MM:SS:ms) - {}\\n\\n'.format(results['testing_time']))\n",
    "    results['predicted'] = y_pred\n",
    "   \n",
    "\n",
    "    # calculate overall accuracty of the model\n",
    "    accuracy = metrics.accuracy_score(y_true=y_test, y_pred=y_pred)\n",
    "    # store accuracy in results\n",
    "    results['accuracy'] = accuracy\n",
    "    print('---------------------')\n",
    "    print('|      Accuracy      |')\n",
    "    print('---------------------')\n",
    "    print('\\n    {}\\n\\n'.format(accuracy))\n",
    "    \n",
    "    \n",
    "    # confusion matrix\n",
    "    cm = metrics.confusion_matrix(y_test, y_pred)\n",
    "    results['confusion_matrix'] = cm\n",
    "    if print_cm: \n",
    "        print('--------------------')\n",
    "        print('| Confusion Matrix |')\n",
    "        print('--------------------')\n",
    "        print('\\n {}'.format(cm))\n",
    "        \n",
    "    # plot confusin matrix\n",
    "    plt.figure(figsize=(7,7))\n",
    "    plt.grid(b=False)\n",
    "    plot_confusion_matrix(cm, classes=class_labels, normalize=True, cmap = cm_cmap)\n",
    "    ax = plt.gca()\n",
    "    ax.set_ylim(-.1,1.1)\n",
    "    plt.show()\n",
    "    \n",
    "    # get classification report\n",
    "    print('-------------------------')\n",
    "    print('| Classifiction Report |')\n",
    "    print('-------------------------')\n",
    "    classification_report = metrics.classification_report(y_test, y_pred)\n",
    "    # store report in results\n",
    "    results['classification_report'] = classification_report\n",
    "    print(classification_report)\n",
    "    \n",
    "    # add the trained  model to the results\n",
    "    results['model'] = model\n",
    "    \n",
    "    return results\n",
    "    "
   ]
  },
  {
   "cell_type": "code",
   "execution_count": null,
   "metadata": {},
   "outputs": [],
   "source": [
    "from sklearn import linear_model\n",
    "from sklearn import metrics\n",
    "from sklearn.model_selection import GridSearchCV\n",
    "from sklearn.neighbors import KNeighborsClassifier\n",
    "\n",
    "#knn\n",
    "# start Grid search\n",
    "parameters = {'n_neighbors': [1, 2, 3, 4, 5, 6, 7, 8, 9, 10]}\n",
    "log_knn = KNeighborsClassifier(n_neighbors=1000)\n",
    "\n",
    "log_knn_grid = GridSearchCV(log_knn, param_grid=parameters, cv=2, verbose=1, n_jobs=-1)\n",
    "log_knn_grid_results =  perform_model(log_knn_grid, X_train, y_train, X_test, y_test, class_labels=labels)"
   ]
  },
  {
   "cell_type": "code",
   "execution_count": null,
   "metadata": {},
   "outputs": [],
   "source": []
  }
 ],
 "metadata": {
  "interpreter": {
   "hash": "ced60e195f12e36e6fdba7f857f70d1ed57737bc7d0dcdd8cde2d1172ac9e8c0"
  },
  "kernelspec": {
   "display_name": "Python 3 (ipykernel)",
   "language": "python",
   "name": "python3"
  },
  "language_info": {
   "codemirror_mode": {
    "name": "ipython",
    "version": 3
   },
   "file_extension": ".py",
   "mimetype": "text/x-python",
   "name": "python",
   "nbconvert_exporter": "python",
   "pygments_lexer": "ipython3",
   "version": "3.9.13"
  }
 },
 "nbformat": 4,
 "nbformat_minor": 4
}
